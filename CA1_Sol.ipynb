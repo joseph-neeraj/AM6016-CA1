{
 "cells": [
  {
   "cell_type": "code",
   "execution_count": null,
   "metadata": {},
   "outputs": [],
   "source": [
    "import tensorflow as tf\n",
    "from tensorflow.keras import layers\n",
    "import numpy as np\n",
    "import matplotlib.pyplot as plt\n",
    "from tensorflow import keras\n",
    "from ipywidgets import interact\n",
    "from PIL import Image\n",
    "\n",
    "print(tf.VERSION)\n",
    "print(keras.__version__)"
   ]
  },
  {
   "cell_type": "code",
   "execution_count": 8,
   "metadata": {},
   "outputs": [
    {
     "name": "stdout",
     "output_type": "stream",
     "text": [
      "Epoch 1/3\n",
      "60000/60000 [==============================] - 4s 68us/step - loss: 0.2592 - acc: 0.9266\n",
      "Epoch 2/3\n",
      "60000/60000 [==============================] - 4s 66us/step - loss: 0.1145 - acc: 0.9660\n",
      "Epoch 3/3\n",
      "60000/60000 [==============================] - 4s 70us/step - loss: 0.0796 - acc: 0.9758\n",
      "10000/10000 [==============================] - 0s 29us/step\n"
     ]
    },
    {
     "data": {
      "text/plain": [
       "(0.08603751617474481, 0.9725)"
      ]
     },
     "execution_count": 8,
     "metadata": {},
     "output_type": "execute_result"
    },
    {
     "data": {
      "image/png": "[encoded data removed]",
      "text/plain": [
       "<matplotlib.figure.Figure at 0x7fc93c5ca978>"
      ]
     },
     "metadata": {},
     "output_type": "display_data"
    },
    {
     "data": {
      "image/png": "[encoded data removed]",
      "text/plain": [
       "<matplotlib.figure.Figure at 0x7fc95a392780>"
      ]
     },
     "metadata": {},
     "output_type": "display_data"
    }
   ],
   "source": [
    "\n",
    "# Answer 1 Start\n",
    "#---------------------------------------------------------------\n",
    "(train_images, train_labels), (test_images, test_labels) = keras.datasets.mnist.load_data()\n",
    "train_images.shape\n",
    "plt.imshow(train_images[200], cmap='binary')\n",
    "\n",
    "#generate a list [0,1,2,....9]\n",
    "output_labels = list(sorted(set(train_labels)))\n",
    "\n",
    "# normalize the data\n",
    "train_images = train_images / 255.0\n",
    "test_images = test_images / 255.0\n",
    "\n",
    "# plot sample data\n",
    "plt.figure(figsize=(10,10))\n",
    "for i in range(25):\n",
    "    plt.subplot(5,5, i+1)\n",
    "    plt.xticks([])\n",
    "    plt.yticks([])\n",
    "    plt.imshow(train_images[i], cmap='binary')\n",
    "    plt.xlabel(train_labels[i])\n",
    "    \n",
    "#build the model\n",
    "model=keras.models.Sequential([\n",
    "        keras.layers.Flatten(input_shape=train_images[i].shape),\n",
    "        keras.layers.Dense(128, activation=tf.nn.relu),\n",
    "        keras.layers.Dense(10, activation=tf.nn.softmax)\n",
    "    ])\n",
    "\n",
    "#compile the model\n",
    "model.compile(optimizer='adam',\n",
    "             loss='sparse_categorical_crossentropy',\n",
    "              #loss='mean_squared_error',\n",
    "             metrics=['accuracy'])\n",
    "\n",
    "#fit the model\n",
    "model.fit(train_images, train_labels, epochs=3)\n",
    "\n",
    "#run the model on the test data\n",
    "test_loss, test_acc = model.evaluate(test_images, test_labels)\n",
    "test_loss, test_acc\n",
    "\n",
    "# Answer 1 Ends\n",
    "#---------------------------------------------------------------\n",
    "\n"
   ]
  },
  {
   "cell_type": "code",
   "execution_count": 23,
   "metadata": {},
   "outputs": [
    {
     "name": "stdout",
     "output_type": "stream",
     "text": [
      "Epoch 1/3\n",
      "60000/60000 [==============================] - 5s 90us/step - loss: 0.2566 - acc: 0.9270\n",
      "Epoch 2/3\n",
      "60000/60000 [==============================] - 5s 77us/step - loss: 0.1134 - acc: 0.9668\n",
      "Epoch 3/3\n",
      "60000/60000 [==============================] - 5s 77us/step - loss: 0.0780 - acc: 0.9765\n",
      "10000/10000 [==============================] - 1s 63us/step\n"
     ]
    },
    {
     "data": {
      "text/plain": [
       "(0.08554547229409218, 0.9739)"
      ]
     },
     "execution_count": 23,
     "metadata": {},
     "output_type": "execute_result"
    }
   ],
   "source": [
    "#Answer 2 Start\n",
    "#---------------------------------------------------------------\n",
    "\n",
    "#2.a start-------------------------------------------\n",
    "model=keras.models.Sequential([\n",
    "        keras.layers.Flatten(input_shape=train_images[i].shape),\n",
    "        keras.layers.Dense(4, activation=tf.nn.relu),\n",
    "        keras.layers.Dense(10, activation=tf.nn.softmax)\n",
    "    ])\n",
    "\n",
    "model.compile(optimizer='adam',\n",
    "             loss='sparse_categorical_crossentropy',\n",
    "              #loss='mean_squared_error',\n",
    "             metrics=['accuracy'])\n",
    "\n",
    "#fit the model\n",
    "model.fit(train_images, train_labels, epochs=3)\n",
    "\n",
    "#run the model on the test data\n",
    "test_loss, test_acc = model.evaluate(test_images, test_labels)\n",
    "test_loss, test_acc\n",
    "\n",
    "# It can be seen that increasing the number of nodes in the hidden layer\n",
    "# increases the test accuracy but also increases the time taken to train the mode.\n",
    "# For nodes=4, accuracy is about 85% and time taken about 6s ; for nodes > 128,\n",
    "# accuracy saturates to about 98%. Increasing nodes to more than 128 doesn't have \n",
    "# much impact on accuracy, although the time taken to train increases\n",
    "# considerably (from 15s for n=128 to 84s for n=1024)\n",
    "\n",
    "# 2.a End------------------------------------------- "
   ]
  },
  {
   "cell_type": "code",
   "execution_count": 28,
   "metadata": {},
   "outputs": [
    {
     "name": "stdout",
     "output_type": "stream",
     "text": [
      "Epoch 1/3\n",
      "60000/60000 [==============================] - 6s 94us/step - loss: 0.1974 - acc: 0.1124\n",
      "Epoch 2/3\n",
      "60000/60000 [==============================] - 5s 77us/step - loss: 0.1974 - acc: 0.1124\n",
      "Epoch 3/3\n",
      "60000/60000 [==============================] - 4s 72us/step - loss: 0.1974 - acc: 0.1124\n",
      "10000/10000 [==============================] - 1s 59us/step\n"
     ]
    },
    {
     "data": {
      "text/plain": [
       "(0.196, 0.1135)"
      ]
     },
     "execution_count": 28,
     "metadata": {},
     "output_type": "execute_result"
    }
   ],
   "source": [
    "#2.b start-------------------------------------------\n",
    "model=keras.models.Sequential([\n",
    "        keras.layers.Flatten(input_shape=train_images[i].shape),\n",
    "        keras.layers.Dense(128, activation=tf.nn.relu),\n",
    "        keras.layers.Dense(1, activation=tf.nn.softmax)\n",
    "    ])\n",
    "\n",
    "model.compile(optimizer='adam',\n",
    "             #loss='sparse_categorical_crossentropy',\n",
    "              #loss='mean_squared_error',\n",
    "              loss='categorical_hinge',\n",
    "             metrics=['accuracy'])\n",
    "\n",
    "#fit the model\n",
    "model.fit(train_images, train_labels, epochs=3)\n",
    "\n",
    "#run the model on the test data\n",
    "test_loss, test_acc = model.evaluate(test_images, test_labels)\n",
    "test_loss, test_acc\n",
    "\n",
    "#2.b End-------------------------------------------"
   ]
  },
  {
   "cell_type": "code",
   "execution_count": 46,
   "metadata": {},
   "outputs": [
    {
     "name": "stdout",
     "output_type": "stream",
     "text": [
      "Epoch 1/3\n",
      "60000/60000 [==============================] - 8s 129us/step - loss: 0.2695 - acc: 0.9238\n",
      "Epoch 2/3\n",
      "60000/60000 [==============================] - 6s 96us/step - loss: 0.1311 - acc: 0.9617\n",
      "Epoch 3/3\n",
      "60000/60000 [==============================] - 6s 100us/step - loss: 0.0960 - acc: 0.9715\n",
      "10000/10000 [==============================] - 1s 134us/step\n"
     ]
    },
    {
     "data": {
      "text/plain": [
       "(0.1050551835756749, 0.9699)"
      ]
     },
     "execution_count": 46,
     "metadata": {},
     "output_type": "execute_result"
    }
   ],
   "source": [
    "#2.c start-------------------------------------------\n",
    "model=keras.models.Sequential([\n",
    "        keras.layers.Flatten(input_shape=train_images[i].shape),\n",
    "        keras.layers.Dense(128, activation=tf.nn.relu),\n",
    "        keras.layers.Dense(10, activation=tf.nn.softmax)\n",
    "    ])\n",
    "\n",
    "model.compile(#optimizer='adam',\n",
    "             #optimizer='sgd',\n",
    "            #optimizer='nadam',\n",
    "              optimizer='adadelta',\n",
    "             loss='sparse_categorical_crossentropy',\n",
    "              #loss='mean_squared_error',\n",
    "             metrics=['accuracy'])\n",
    "\n",
    "#fit the model\n",
    "model.fit(train_images, train_labels, epochs=3)\n",
    "\n",
    "#run the model on the test data\n",
    "test_loss, test_acc = model.evaluate(test_images, test_labels)\n",
    "test_loss, test_acc\n",
    "\n",
    "\n",
    "#For n=128 hidden layer, 'nadam' (98%), 'adam'(97%) and 'adadelta'(97%) provide much better accuracy\n",
    "# than 'sgd'(90%) optimizer\n",
    "#2.c end-------------------------------------------"
   ]
  },
  {
   "cell_type": "code",
   "execution_count": 57,
   "metadata": {},
   "outputs": [
    {
     "name": "stdout",
     "output_type": "stream",
     "text": [
      "Epoch 1/3\n",
      "60000/60000 [==============================] - 3s 54us/step - loss: 1.6138 - acc: 0.5625\n",
      "Epoch 2/3\n",
      "60000/60000 [==============================] - 1s 9us/step - loss: 0.6876 - acc: 0.8409\n",
      "Epoch 3/3\n",
      "60000/60000 [==============================] - 1s 8us/step - loss: 0.4441 - acc: 0.8806\n",
      "10000/10000 [==============================] - 2s 166us/step\n"
     ]
    },
    {
     "data": {
      "text/plain": [
       "(0.37171203162670136, 0.9003)"
      ]
     },
     "execution_count": 57,
     "metadata": {},
     "output_type": "execute_result"
    }
   ],
   "source": [
    "#2.e start-------------------------------------------\n",
    "model=keras.models.Sequential([\n",
    "        keras.layers.Flatten(input_shape=train_images[i].shape),\n",
    "        keras.layers.Dense(128, activation=tf.nn.relu),\n",
    "        keras.layers.Dense(10, activation=tf.nn.softmax)\n",
    "    ])\n",
    "\n",
    "model.compile(optimizer='adam',\n",
    "             loss='sparse_categorical_crossentropy',\n",
    "             metrics=['accuracy'])\n",
    "\n",
    "#fit the model\n",
    "model.fit(train_images, train_labels, epochs=1)\n",
    "\n",
    "#run the model on the test data\n",
    "test_loss, test_acc = model.evaluate(test_images, test_labels)\n",
    "test_loss, test_acc\n",
    "\n",
    "# For n=128 hidden layer, the accuracy improves from 92% (epochs=1)\n",
    "# 99% (epochs=10). The 99% accuracy could mean we are over fitting the \n",
    "# model though.\n",
    "#2.e end-------------------------------------------"
   ]
  },
  {
   "cell_type": "code",
   "execution_count": 59,
   "metadata": {},
   "outputs": [
    {
     "name": "stdout",
     "output_type": "stream",
     "text": [
      "Epoch 1/3\n",
      "60000/60000 [==============================] - 3s 57us/step - loss: 1.6343 - acc: 0.5737\n",
      "Epoch 2/3\n",
      "60000/60000 [==============================] - 1s 9us/step - loss: 0.6873 - acc: 0.8393\n",
      "Epoch 3/3\n",
      "60000/60000 [==============================] - 1s 11us/step - loss: 0.4436 - acc: 0.8797\n",
      "10000/10000 [==============================] - 2s 191us/step\n"
     ]
    },
    {
     "data": {
      "text/plain": [
       "(0.37519794042110444, 0.8967)"
      ]
     },
     "execution_count": 59,
     "metadata": {},
     "output_type": "execute_result"
    }
   ],
   "source": [
    "#2.f start-------------------------------------------\n",
    "model=keras.models.Sequential([\n",
    "        keras.layers.Flatten(input_shape=train_images[i].shape),\n",
    "        keras.layers.Dense(128, activation=tf.nn.relu),\n",
    "        keras.layers.Dense(10, activation=tf.nn.softmax)\n",
    "    ])\n",
    "\n",
    "model.compile(optimizer='adam',\n",
    "             loss='sparse_categorical_crossentropy',\n",
    "             metrics=['accuracy'])\n",
    "\n",
    "#fit the model\n",
    "model.fit(train_images, train_labels, epochs=3, batch_size=4086)\n",
    "\n",
    "#run the model on the test data\n",
    "test_loss, test_acc = model.evaluate(test_images, test_labels)\n",
    "test_loss, test_acc\n",
    "\n",
    "\n",
    "# A higher batch size decreases the time to train the network,\n",
    "# though the accuracy is lower.\n",
    "# for example, batch_size=8 (time=65s, accuracy=97%);\n",
    "# batch_size=4096 (time=4s, accuracy=87%)\n",
    "#2.f end-------------------------------------------\n",
    "\n"
   ]
  },
  {
   "cell_type": "code",
   "execution_count": 72,
   "metadata": {},
   "outputs": [
    {
     "name": "stdout",
     "output_type": "stream",
     "text": [
      "Epoch 1/3\n",
      "60000/60000 [==============================] - 11s 179us/step - loss: 0.2645 - acc: 0.9257\n",
      "Epoch 2/3\n",
      "60000/60000 [==============================] - 6s 108us/step - loss: 0.1171 - acc: 0.9660\n",
      "Epoch 3/3\n",
      "60000/60000 [==============================] - 6s 107us/step - loss: 0.0798 - acc: 0.9757\n",
      "10000/10000 [==============================] - 2s 246us/step\n"
     ]
    },
    {
     "data": {
      "text/plain": [
       "(0.08306573158372194, 0.9756)"
      ]
     },
     "execution_count": 72,
     "metadata": {},
     "output_type": "execute_result"
    }
   ],
   "source": [
    "#2.g start-------------------------------------------\n",
    "model=keras.models.Sequential([\n",
    "        keras.layers.Flatten(input_shape=train_images[i].shape),\n",
    "        keras.layers.Dense(128, activation=tf.nn.relu),\n",
    "        keras.layers.Dense(128, activation=tf.nn.relu),\n",
    "        keras.layers.Dense(10, activation=tf.nn.softmax)\n",
    "    ])\n",
    "\n",
    "model.compile(optimizer='adam',\n",
    "             loss='sparse_categorical_crossentropy',\n",
    "             metrics=['accuracy'])\n",
    "\n",
    "#fit the model\n",
    "model.fit(train_images, train_labels, epochs=3)\n",
    "\n",
    "#run the model on the test data\n",
    "test_loss, test_acc = model.evaluate(test_images, test_labels)\n",
    "test_loss, test_acc\n",
    "\n",
    "\n",
    "# Adding an extra hidden layer n=128 doesn't seem to have much\n",
    "# effect on neither the accuracy nor the time taken.\n",
    "#2.g end-------------------------------------------\n",
    "\n"
   ]
  },
  {
   "cell_type": "code",
   "execution_count": 82,
   "metadata": {},
   "outputs": [
    {
     "name": "stdout",
     "output_type": "stream",
     "text": [
      "Epoch 1/3\n",
      "60000/60000 [==============================] - 14s 234us/step - loss: 0.2301 - acc: 0.9315\n",
      "Epoch 2/3\n",
      "60000/60000 [==============================] - 8s 137us/step - loss: 0.0998 - acc: 0.9689\n",
      "Epoch 3/3\n",
      "60000/60000 [==============================] - 8s 136us/step - loss: 0.0721 - acc: 0.9774\n",
      "10000/10000 [==============================] - 3s 322us/step\n"
     ]
    },
    {
     "data": {
      "text/plain": [
       "(0.08448049801387825, 0.9741)"
      ]
     },
     "execution_count": 82,
     "metadata": {},
     "output_type": "execute_result"
    }
   ],
   "source": [
    "#2.h start-------------------------------------------\n",
    "model=keras.models.Sequential([\n",
    "        keras.layers.Flatten(input_shape=train_images[i].shape),\n",
    "        keras.layers.Dense(128, activation=tf.nn.relu),\n",
    "        keras.layers.Dense(128, activation=tf.nn.relu),\n",
    "        keras.layers.Dense(128, activation=tf.nn.relu),\n",
    "        keras.layers.Dense(10, activation=tf.nn.softmax)\n",
    "    ])\n",
    "\n",
    "model.compile(optimizer='adam',\n",
    "             loss='sparse_categorical_crossentropy',\n",
    "             metrics=['accuracy'])\n",
    "\n",
    "#fit the model\n",
    "model.fit(train_images, train_labels, epochs=3)\n",
    "\n",
    "#run the model on the test data\n",
    "test_loss, test_acc = model.evaluate(test_images, test_labels)\n",
    "test_loss, test_acc\n",
    "\n",
    "# Adding 2 exra layer doesnt seem to have much effect on the\n",
    "# time taken nor the accuracy of the network\n",
    "#2.h end-------------------------------------------"
   ]
  },
  {
   "cell_type": "code",
   "execution_count": null,
   "metadata": {},
   "outputs": [],
   "source": []
  },
  {
   "cell_type": "code",
   "execution_count": null,
   "metadata": {},
   "outputs": [],
   "source": [
    "#Prepare to read the student number\n",
    "image = Image.open(\"std_num.JPG\")\n",
    "image"
   ]
  },
  {
   "cell_type": "code",
   "execution_count": null,
   "metadata": {},
   "outputs": [],
   "source": [
    "@interact(left=(0, image.size[0]-2), top=(0, image.size[1]-2), right=(0,image.size[0]-2),\n",
    "          bottom=(0, image.size[1]-2))\n",
    "def cropImage(fileName=\"cropped.png\", left=0, top=0, right=image.size[0], bottom=image.size[1]):\n",
    "    croppedImage = image.crop([left, top, right, bottom])\n",
    "    plt.close()\n",
    "    plt.imshow(croppedImage)\n",
    "    croppedImage.save(fileName)\n",
    "    plt.show()"
   ]
  },
  {
   "cell_type": "code",
   "execution_count": null,
   "metadata": {},
   "outputs": [],
   "source": [
    "digit = Image.open(\"cropped.png\").resize((28,28))\n",
    "plt.imshow(digit)\n",
    "# convert to greyscale\n",
    "digit = np.array(digit.convert(\"L\"))\n",
    "#plt.imshow(digit, cmap=\"binary\")\n",
    "\n",
    "# scale to values between 0 and 1\n",
    "digit = (np.max(digit) - digit) / (np.max(digit) - np.min(digit))\n",
    "plt.imshow(digit, cmap=\"binary\")\n",
    "\n",
    "digit[digit<0.4] = 0\n",
    "plt.imshow(digit, cmap=\"binary\")"
   ]
  },
  {
   "cell_type": "code",
   "execution_count": 30,
   "metadata": {},
   "outputs": [
    {
     "ename": "NameError",
     "evalue": "name 'digit' is not defined",
     "output_type": "error",
     "traceback": [
      "\u001b[0;31m---------------------------------------------------------------------------\u001b[0m",
      "\u001b[0;31mNameError\u001b[0m                                 Traceback (most recent call last)",
      "\u001b[0;32m<ipython-input-30-6e2a450321ff>\u001b[0m in \u001b[0;36m<module>\u001b[0;34m()\u001b[0m\n\u001b[1;32m      1\u001b[0m \u001b[0;31m#digit = np.reshape(digit, (1,digit.shape[0], digit.shape[1]))\u001b[0m\u001b[0;34m\u001b[0m\u001b[0;34m\u001b[0m\u001b[0;34m\u001b[0m\u001b[0m\n\u001b[0;32m----> 2\u001b[0;31m predict_array = model.predict(np.reshape(digit, (1,digit.shape[0], digit.shape[1])),\n\u001b[0m\u001b[1;32m      3\u001b[0m                     verbose=1)\n\u001b[1;32m      4\u001b[0m \u001b[0;31m#print(\"Digit recognized = \", output_labels[np.argmax(predict_array)])\u001b[0m\u001b[0;34m\u001b[0m\u001b[0;34m\u001b[0m\u001b[0;34m\u001b[0m\u001b[0m\n\u001b[1;32m      5\u001b[0m \u001b[0mprint\u001b[0m\u001b[0;34m(\u001b[0m\u001b[0;34m\"Digit recognized = \"\u001b[0m\u001b[0;34m,\u001b[0m \u001b[0mnp\u001b[0m\u001b[0;34m.\u001b[0m\u001b[0margmax\u001b[0m\u001b[0;34m(\u001b[0m\u001b[0mpredict_array\u001b[0m\u001b[0;34m)\u001b[0m\u001b[0;34m)\u001b[0m\u001b[0;34m\u001b[0m\u001b[0;34m\u001b[0m\u001b[0m\n",
      "\u001b[0;31mNameError\u001b[0m: name 'digit' is not defined"
     ]
    }
   ],
   "source": [
    "# Predict the digit in the student number\n",
    "predict_array = model.predict(np.reshape(digit, (1,digit.shape[0], digit.shape[1])),\n",
    "                    verbose=1)\n",
    "predict_array\n",
    "print(\"Digit recognized = \", output_labels[np.argmax(predict_array)])\n",
    "#print(\"Digit recognized = \", np.argmax(predict_array))\n",
    "\n",
    "#digit.shape"
   ]
  },
  {
   "cell_type": "code",
   "execution_count": null,
   "metadata": {},
   "outputs": [],
   "source": [
    "%reset"
   ]
  }
 ],
 "metadata": {
  "kernelspec": {
   "display_name": "Python (tensorflow)",
   "language": "python",
   "name": "tensorflow"
  },
  "language_info": {
   "codemirror_mode": {
    "name": "ipython",
    "version": 3
   },
   "file_extension": ".py",
   "mimetype": "text/x-python",
   "name": "python",
   "nbconvert_exporter": "python",
   "pygments_lexer": "ipython3",
   "version": "3.6.7"
  }
 },
 "nbformat": 4,
 "nbformat_minor": 2
}
